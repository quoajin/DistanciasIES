{
 "cells": [
  {
   "cell_type": "code",
   "execution_count": 36,
   "id": "f53c30d9-fb78-4977-bfd5-10206c148c05",
   "metadata": {},
   "outputs": [],
   "source": [
    "# -----------------------------------------------\n",
    "#                  LIBRARIES\n",
    "# -----------------------------------------------\n",
    "\n",
    "import geopandas as gpd \n",
    "import numpy as np\n",
    "import pandas as pd \n",
    "from fiona.drvsupport import supported_drivers\n",
    "import requests\n",
    "import json\n",
    "import datetime\n",
    "import time\n",
    "\n",
    "# ------------------------------\n",
    "#       DATA TREATMENT\n",
    "# ------------------------------\n",
    "\n",
    "# IMPORT KML DRIVER\n",
    "\n",
    "supported_drivers['KML'] = 'rw'\n",
    "\n",
    "# READ KML file to a geopandas dataframe \n",
    "\n",
    "geo_df = gpd.read_file('CentrosSecundariaMadrid.kml',driver='KML')\n",
    "\n",
    "# Create Pandas Dataframe from GeoPandas \n",
    "\n",
    "df= pd.DataFrame(geo_df)\n",
    "\n",
    "# Request api-key\n",
    "f = open('api_key.json',)\n",
    "credentials = json.load(f)\n",
    "api_key = credentials['gmaps_api_key']\n",
    "ors_api_key = credentials['ors_api_key']"
   ]
  },
  {
   "cell_type": "code",
   "execution_count": 4,
   "id": "3cfb4752-1457-4d9f-a454-d2b1944c194f",
   "metadata": {},
   "outputs": [
    {
     "name": "stdin",
     "output_type": "stream",
     "text": [
      " Mayor 34, Algete\n"
     ]
    }
   ],
   "source": [
    "# Parámetros del script\n",
    "\n",
    "# Tiempo de salida (Año, Mes, Día, Hora, Minuto, Segundo)\n",
    "\n",
    "TIEMPOSALIDA = str(int(datetime.datetime(2023, 6, 7, 7, 30, 0).timestamp()))\n",
    "\n",
    "# Modo de transporte: 'driving', 'walking', 'bicycling', 'transit'\n",
    "\n",
    "MODODETRANSPORTE = 'driving'\n",
    "\n",
    "direccion = input()"
   ]
  },
  {
   "cell_type": "code",
   "execution_count": 5,
   "id": "275d8728-9cb7-46cb-81a3-a01d3282e594",
   "metadata": {},
   "outputs": [],
   "source": [
    "df_xy = geo_df['geometry'].get_coordinates()"
   ]
  },
  {
   "cell_type": "code",
   "execution_count": 6,
   "id": "421c74e7-7fdf-4aa1-b508-89e1d4dab30c",
   "metadata": {},
   "outputs": [],
   "source": [
    "df = pd.concat([df, df_xy], axis=1)"
   ]
  },
  {
   "cell_type": "code",
   "execution_count": 7,
   "id": "074bb507-05e1-4ad4-91f7-93824c84019a",
   "metadata": {},
   "outputs": [],
   "source": [
    "df.drop(df[df['x'] == 0].index, inplace = True)"
   ]
  },
  {
   "cell_type": "code",
   "execution_count": 8,
   "id": "081b0be1-7656-4ff9-b4e4-f29b2964d5a8",
   "metadata": {},
   "outputs": [],
   "source": [
    "coord_ies = [\"{},{}\".format(y,x) for x,y in zip(df['x'],df['y'])]"
   ]
  },
  {
   "cell_type": "code",
   "execution_count": 9,
   "id": "dbda1c2b-3d11-4b38-9745-60fa264be255",
   "metadata": {},
   "outputs": [],
   "source": [
    "chunks = [coord_ies[i:i+25] for i in range(0, len(coord_ies), 25)]"
   ]
  },
  {
   "cell_type": "code",
   "execution_count": 37,
   "id": "7f3fab11-0065-4260-9da4-ca40d3fd870a",
   "metadata": {},
   "outputs": [
    {
     "name": "stdout",
     "output_type": "stream",
     "text": [
      "200 OK\n"
     ]
    }
   ],
   "source": [
    "#REQUEST API DIRECCION\n",
    "\n",
    "headers = {\n",
    "    'Accept': 'application/json, application/geo+json, application/gpx+xml, img/png; charset=utf-8',\n",
    "}\n",
    "call = requests.get('https://api.openrouteservice.org/geocode/search?api_key={}&text={}&boundary.country=ES'.format(ors_api_key,direccion), headers=headers)\n",
    "\n",
    "print(call.status_code, call.reason)\n",
    "\n",
    "data_dir = json.loads(call.text)"
   ]
  },
  {
   "cell_type": "code",
   "execution_count": 11,
   "id": "ee3a0a18-90aa-40b0-92ea-ba4ba75a2bf1",
   "metadata": {},
   "outputs": [
    {
     "data": {
      "text/plain": [
       "[-3.507326, 40.59644]"
      ]
     },
     "execution_count": 11,
     "metadata": {},
     "output_type": "execute_result"
    }
   ],
   "source": [
    "data_dir['features'][0]['geometry']['coordinates']"
   ]
  },
  {
   "cell_type": "code",
   "execution_count": 12,
   "id": "d2f053fd-c5f7-4733-b172-3ccfab901ddb",
   "metadata": {},
   "outputs": [],
   "source": [
    "coord_dir = data_dir['features'][0]['geometry']['coordinates']\n",
    "coord_dir_str = str(\"{},{}\".format(coord_dir[1],coord_dir[0]))"
   ]
  },
  {
   "cell_type": "code",
   "execution_count": 33,
   "id": "642d9f7e-43ee-457a-9341-7af21f02229d",
   "metadata": {
    "tags": []
   },
   "outputs": [],
   "source": [
    "def call_chunk(chunk):\n",
    "\n",
    "    # Take source\n",
    "    source = coord_dir_str\n",
    "\n",
    "    # Take destinations\n",
    "    dest = '|'.join(chunk)\n",
    "\n",
    "    # Take arrival time\n",
    "    depart_time = TIEMPOSALIDA\n",
    "    \n",
    "    # Take mode of transport\n",
    "    \n",
    "    trans_mode = MODODETRANSPORTE\n",
    "    \n",
    "    # url variable store url\n",
    "    url ='https://maps.googleapis.com/maps/api/distancematrix/json?'\n",
    "\n",
    "    # Get method of requests module\n",
    "    # return response object\n",
    "    r = requests.get(url + 'origins=' + source +\n",
    "                       '&destinations=' + dest +\n",
    "                       '&key=' + api_key +\n",
    "                       '&mode=' + trans_mode +\n",
    "                       '&departure_time=' + depart_time + '&avoid=tolls')\n",
    "    data = r.text\n",
    "    # json method of response object\n",
    "    # return json format result\n",
    "    return r.json()"
   ]
  },
  {
   "cell_type": "code",
   "execution_count": 39,
   "id": "9cd2324f-72b0-431e-847a-ea353e4192f5",
   "metadata": {
    "tags": []
   },
   "outputs": [],
   "source": [
    "duration_list = []\n",
    "for chunk in chunks[:1]:\n",
    "    v = call_chunk(chunk)\n",
    "    #time.sleep(0.5)\n",
    "    for element in v['rows'][0]['elements']:\n",
    "        if element['status'] == 'OK':\n",
    "            if MODODETRANSPORTE == 'driving':\n",
    "                duration = element['duration_in_traffic']['value']\n",
    "            else:\n",
    "                duration = element['duration']['value']\n",
    "        else:\n",
    "            duration = 99999\n",
    "            print(element['status'])\n",
    "        duration_list.append(duration)"
   ]
  },
  {
   "cell_type": "code",
   "execution_count": 41,
   "id": "1a4988cb-4e26-4eec-91a4-6d1a5faf65d0",
   "metadata": {},
   "outputs": [
    {
     "data": {
      "text/plain": [
       "25"
      ]
     },
     "execution_count": 41,
     "metadata": {},
     "output_type": "execute_result"
    }
   ],
   "source": [
    "len(duration_list)"
   ]
  },
  {
   "cell_type": "code",
   "execution_count": 17,
   "id": "296aba00-82ba-4fc7-b7bd-efc2bea760e7",
   "metadata": {},
   "outputs": [],
   "source": [
    "df['Duraciones'] = duration_list"
   ]
  },
  {
   "cell_type": "code",
   "execution_count": 18,
   "id": "d3a58ab4-a23b-4db8-b8de-040bbc45c024",
   "metadata": {},
   "outputs": [],
   "source": [
    "from humanfriendly import format_timespan\n",
    "\n",
    "df['Tiempo'] = [format_timespan(i) if i != 99999 else 'No se puede llegar' for i in df['Duraciones']]"
   ]
  },
  {
   "cell_type": "code",
   "execution_count": 19,
   "id": "d4af71dd-113a-4a17-ac22-ba6f2a9d59d3",
   "metadata": {},
   "outputs": [],
   "source": [
    "df_out = df.sort_values(['Duraciones'])"
   ]
  },
  {
   "cell_type": "code",
   "execution_count": 20,
   "id": "8b1b2338-9ccd-442c-9e85-526256f737b2",
   "metadata": {},
   "outputs": [],
   "source": [
    "# Extracting components\n",
    "df_out['D.A.T.'] = df_out['Description'].str.split('<br>').str[0].str.split(': ').str[1]\n",
    "df_out['codigo distrito'] = df_out['Description'].str.split('<br>').str[1].str.split(': ').str[1]\n",
    "df_out['nombre distrito'] = df_out['Description'].str.split('<br>').str[2].str.split(': ').str[1]\n",
    "df_out['codigo centro'] = df_out['Description'].str.split('<br>').str[3].str.split(': ').str[1]\n",
    "df_out['lengua'] = df_out['Description'].str.split('<br>').str[4].str.split(': ').str[1]\n",
    "df_out['nombre centro'] = df_out['Description'].str.split('<br>').str[5].str.split('; ').str[1].str.split(': ').str[1]\n",
    "df_out['distrito'] = df_out['Description'].str.split('<br>').str[5].str.split('; ').str[0].str.split(': ').str[1]"
   ]
  },
  {
   "cell_type": "code",
   "execution_count": 21,
   "id": "aae0b01c-41b2-44f0-bf05-ffc31b85e3c9",
   "metadata": {},
   "outputs": [],
   "source": [
    "df_out = df_out.drop(['Description','geometry','Duraciones','codigo distrito', 'lengua', 'distrito','nombre centro'],axis=1)"
   ]
  },
  {
   "cell_type": "code",
   "execution_count": 22,
   "id": "d0bd64c7-c7bf-4011-90c5-60f2c15a6f23",
   "metadata": {},
   "outputs": [],
   "source": [
    "df_out = df_out[['Tiempo', 'Name', 'nombre distrito','codigo centro','D.A.T.','x','y']]"
   ]
  },
  {
   "cell_type": "code",
   "execution_count": 23,
   "id": "403f9be9-4ee8-41da-96a5-52b8bf6eef5d",
   "metadata": {
    "tags": []
   },
   "outputs": [
    {
     "data": {
      "text/html": [
       "<div>\n",
       "<style scoped>\n",
       "    .dataframe tbody tr th:only-of-type {\n",
       "        vertical-align: middle;\n",
       "    }\n",
       "\n",
       "    .dataframe tbody tr th {\n",
       "        vertical-align: top;\n",
       "    }\n",
       "\n",
       "    .dataframe thead th {\n",
       "        text-align: right;\n",
       "    }\n",
       "</style>\n",
       "<table border=\"1\" class=\"dataframe\">\n",
       "  <thead>\n",
       "    <tr style=\"text-align: right;\">\n",
       "      <th></th>\n",
       "      <th>Tiempo</th>\n",
       "      <th>Name</th>\n",
       "      <th>nombre distrito</th>\n",
       "      <th>codigo centro</th>\n",
       "      <th>D.A.T.</th>\n",
       "      <th>x</th>\n",
       "      <th>y</th>\n",
       "    </tr>\n",
       "  </thead>\n",
       "  <tbody>\n",
       "    <tr>\n",
       "      <th>180</th>\n",
       "      <td>1 minute and 30 seconds</td>\n",
       "      <td>IES GUSTAVO ADOLFO BECQUER</td>\n",
       "      <td>ALGETE</td>\n",
       "      <td>28040672</td>\n",
       "      <td>Madrid-Norte</td>\n",
       "      <td>-3.510539</td>\n",
       "      <td>40.600264</td>\n",
       "    </tr>\n",
       "    <tr>\n",
       "      <th>179</th>\n",
       "      <td>1 minute and 39 seconds</td>\n",
       "      <td>IES AL-SATT</td>\n",
       "      <td>ALGETE</td>\n",
       "      <td>28040611</td>\n",
       "      <td>Madrid-Norte</td>\n",
       "      <td>-3.509965</td>\n",
       "      <td>40.599728</td>\n",
       "    </tr>\n",
       "    <tr>\n",
       "      <th>509</th>\n",
       "      <td>4 minutes and 30 seconds</td>\n",
       "      <td>CP INF-PRI-SEC VILLA DE COBEÑA</td>\n",
       "      <td>COBEÑA</td>\n",
       "      <td>28002211</td>\n",
       "      <td>Madrid-Norte</td>\n",
       "      <td>-3.506465</td>\n",
       "      <td>40.569776</td>\n",
       "    </tr>\n",
       "    <tr>\n",
       "      <th>516</th>\n",
       "      <td>7 minutes and 10 seconds</td>\n",
       "      <td>CP INF-PRI-SEC MARTINA GARCIA</td>\n",
       "      <td>FUENTE EL SAZ DE JARAMA</td>\n",
       "      <td>28002853</td>\n",
       "      <td>Madrid-Norte</td>\n",
       "      <td>-3.515641</td>\n",
       "      <td>40.629684</td>\n",
       "    </tr>\n",
       "    <tr>\n",
       "      <th>455</th>\n",
       "      <td>8 minutes and 39 seconds</td>\n",
       "      <td>CP INF-PRI-SEC SAN BLAS</td>\n",
       "      <td>AJALVIR</td>\n",
       "      <td>28000029</td>\n",
       "      <td>Madrid-Este</td>\n",
       "      <td>-3.486152</td>\n",
       "      <td>40.539876</td>\n",
       "    </tr>\n",
       "    <tr>\n",
       "      <th>...</th>\n",
       "      <td>...</td>\n",
       "      <td>...</td>\n",
       "      <td>...</td>\n",
       "      <td>...</td>\n",
       "      <td>...</td>\n",
       "      <td>...</td>\n",
       "      <td>...</td>\n",
       "    </tr>\n",
       "    <tr>\n",
       "      <th>639</th>\n",
       "      <td>1 hour, 22 minutes and 30 seconds</td>\n",
       "      <td>EOEP ATEN-TEMPR EOEP DE AT.TNA</td>\n",
       "      <td>SAN MARTIN DE VALDEIGLESIAS</td>\n",
       "      <td>28701019</td>\n",
       "      <td>Madrid-Sur</td>\n",
       "      <td>-4.397997</td>\n",
       "      <td>40.363821</td>\n",
       "    </tr>\n",
       "    <tr>\n",
       "      <th>327</th>\n",
       "      <td>1 hour, 23 minutes and 1 second</td>\n",
       "      <td>IES MAESTRO JUAN MARIA LEONET</td>\n",
       "      <td>VILLA DEL PRADO</td>\n",
       "      <td>28046273</td>\n",
       "      <td>Madrid-Sur</td>\n",
       "      <td>-4.304016</td>\n",
       "      <td>40.272253</td>\n",
       "    </tr>\n",
       "    <tr>\n",
       "      <th>640</th>\n",
       "      <td>1 hour, 23 minutes and 2 seconds</td>\n",
       "      <td>EOEP GENERAL EQUIPO GENERAL S.MARTÍN</td>\n",
       "      <td>SAN MARTIN DE VALDEIGLESIAS</td>\n",
       "      <td>28700441</td>\n",
       "      <td>Madrid-Sur</td>\n",
       "      <td>-4.403503</td>\n",
       "      <td>40.363562</td>\n",
       "    </tr>\n",
       "    <tr>\n",
       "      <th>580</th>\n",
       "      <td>1 hour, 29 minutes and 55 seconds</td>\n",
       "      <td>CP INF-PRI-SEC EUGENIO MURO</td>\n",
       "      <td>CADALSO DE LOS VIDRIOS</td>\n",
       "      <td>28002026</td>\n",
       "      <td>Madrid-Sur</td>\n",
       "      <td>-4.452356</td>\n",
       "      <td>40.302569</td>\n",
       "    </tr>\n",
       "    <tr>\n",
       "      <th>253</th>\n",
       "      <td>1 hour, 35 minutes and 53 seconds</td>\n",
       "      <td>CP INF-PRI-SEC SUAREZ SOMONTE</td>\n",
       "      <td>CENICIENTOS</td>\n",
       "      <td>28002105</td>\n",
       "      <td>Madrid-Sur</td>\n",
       "      <td>-4.467367</td>\n",
       "      <td>40.261706</td>\n",
       "    </tr>\n",
       "  </tbody>\n",
       "</table>\n",
       "<p>649 rows × 7 columns</p>\n",
       "</div>"
      ],
      "text/plain": [
       "                                Tiempo                                  Name  \\\n",
       "180            1 minute and 30 seconds            IES GUSTAVO ADOLFO BECQUER   \n",
       "179            1 minute and 39 seconds                           IES AL-SATT   \n",
       "509           4 minutes and 30 seconds        CP INF-PRI-SEC VILLA DE COBEÑA   \n",
       "516           7 minutes and 10 seconds         CP INF-PRI-SEC MARTINA GARCIA   \n",
       "455           8 minutes and 39 seconds               CP INF-PRI-SEC SAN BLAS   \n",
       "..                                 ...                                   ...   \n",
       "639  1 hour, 22 minutes and 30 seconds        EOEP ATEN-TEMPR EOEP DE AT.TNA   \n",
       "327    1 hour, 23 minutes and 1 second         IES MAESTRO JUAN MARIA LEONET   \n",
       "640   1 hour, 23 minutes and 2 seconds  EOEP GENERAL EQUIPO GENERAL S.MARTÍN   \n",
       "580  1 hour, 29 minutes and 55 seconds           CP INF-PRI-SEC EUGENIO MURO   \n",
       "253  1 hour, 35 minutes and 53 seconds         CP INF-PRI-SEC SUAREZ SOMONTE   \n",
       "\n",
       "                 nombre distrito codigo centro        D.A.T.         x  \\\n",
       "180                       ALGETE      28040672  Madrid-Norte -3.510539   \n",
       "179                       ALGETE      28040611  Madrid-Norte -3.509965   \n",
       "509                       COBEÑA      28002211  Madrid-Norte -3.506465   \n",
       "516      FUENTE EL SAZ DE JARAMA      28002853  Madrid-Norte -3.515641   \n",
       "455                      AJALVIR      28000029   Madrid-Este -3.486152   \n",
       "..                           ...           ...           ...       ...   \n",
       "639  SAN MARTIN DE VALDEIGLESIAS      28701019    Madrid-Sur -4.397997   \n",
       "327              VILLA DEL PRADO      28046273    Madrid-Sur -4.304016   \n",
       "640  SAN MARTIN DE VALDEIGLESIAS      28700441    Madrid-Sur -4.403503   \n",
       "580       CADALSO DE LOS VIDRIOS      28002026    Madrid-Sur -4.452356   \n",
       "253                  CENICIENTOS      28002105    Madrid-Sur -4.467367   \n",
       "\n",
       "             y  \n",
       "180  40.600264  \n",
       "179  40.599728  \n",
       "509  40.569776  \n",
       "516  40.629684  \n",
       "455  40.539876  \n",
       "..         ...  \n",
       "639  40.363821  \n",
       "327  40.272253  \n",
       "640  40.363562  \n",
       "580  40.302569  \n",
       "253  40.261706  \n",
       "\n",
       "[649 rows x 7 columns]"
      ]
     },
     "execution_count": 23,
     "metadata": {},
     "output_type": "execute_result"
    }
   ],
   "source": [
    "df_out"
   ]
  },
  {
   "cell_type": "code",
   "execution_count": 24,
   "id": "ece5511b-c68e-48ae-a691-4a79e70a868b",
   "metadata": {
    "tags": []
   },
   "outputs": [],
   "source": [
    "df_out.to_csv(\"Resultados/tiempos_gmaps_{}_{}.csv\".format(MODODETRANSPORTE,direccion),index=False)"
   ]
  },
  {
   "cell_type": "code",
   "execution_count": null,
   "id": "a48dd051-80a5-42c0-91be-a514db4ce0ae",
   "metadata": {},
   "outputs": [],
   "source": []
  }
 ],
 "metadata": {
  "kernelspec": {
   "display_name": "Python 3 (ipykernel)",
   "language": "python",
   "name": "python3"
  },
  "language_info": {
   "codemirror_mode": {
    "name": "ipython",
    "version": 3
   },
   "file_extension": ".py",
   "mimetype": "text/x-python",
   "name": "python",
   "nbconvert_exporter": "python",
   "pygments_lexer": "ipython3",
   "version": "3.10.9"
  }
 },
 "nbformat": 4,
 "nbformat_minor": 5
}

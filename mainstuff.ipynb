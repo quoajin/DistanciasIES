{
 "cells": [
  {
   "cell_type": "code",
   "execution_count": 30,
   "id": "f53c30d9-fb78-4977-bfd5-10206c148c05",
   "metadata": {
    "tags": []
   },
   "outputs": [],
   "source": [
    "# -----------------------------------------------\n",
    "#                  LIBRARIES\n",
    "# -----------------------------------------------\n",
    "\n",
    "import geopandas as gpd \n",
    "import numpy as np\n",
    "import pandas as pd \n",
    "from fiona.drvsupport import supported_drivers\n",
    "import requests\n",
    "import json\n",
    "\n",
    "# ------------------------------\n",
    "#       DATA TREATMENT\n",
    "# ------------------------------\n",
    "\n",
    "# IMPORT KML DRIVER\n",
    "\n",
    "supported_drivers['KML'] = 'rw'\n",
    "\n",
    "# READ KML file to a geopandas dataframe \n",
    "\n",
    "geo_df = gpd.read_file('CentrosSecundariaMadrid.kml',driver='KML')\n",
    "\n",
    "# Create Pandas Dataframe from GeoPandas \n",
    "\n",
    "df= pd.DataFrame(geo_df)\n",
    "\n",
    "f = open(\"api_key.json\",)\n",
    "api_key = json.load(f)['ors_api_key']"
   ]
  },
  {
   "cell_type": "code",
   "execution_count": 2,
   "id": "275d8728-9cb7-46cb-81a3-a01d3282e594",
   "metadata": {
    "tags": []
   },
   "outputs": [],
   "source": [
    "df_xy = geo_df['geometry'].get_coordinates()"
   ]
  },
  {
   "cell_type": "code",
   "execution_count": 3,
   "id": "421c74e7-7fdf-4aa1-b508-89e1d4dab30c",
   "metadata": {
    "tags": []
   },
   "outputs": [],
   "source": [
    "df = pd.concat([df, df_xy], axis=1)"
   ]
  },
  {
   "cell_type": "code",
   "execution_count": 4,
   "id": "074bb507-05e1-4ad4-91f7-93824c84019a",
   "metadata": {
    "tags": []
   },
   "outputs": [],
   "source": [
    "df.drop(df[df['x'] == 0].index, inplace = True)"
   ]
  },
  {
   "cell_type": "code",
   "execution_count": 5,
   "id": "3cfb4752-1457-4d9f-a454-d2b1944c194f",
   "metadata": {},
   "outputs": [
    {
     "name": "stdin",
     "output_type": "stream",
     "text": [
      " Mayor 34, Algete\n"
     ]
    }
   ],
   "source": [
    "direccion = input()"
   ]
  },
  {
   "cell_type": "code",
   "execution_count": 31,
   "id": "7f3fab11-0065-4260-9da4-ca40d3fd870a",
   "metadata": {},
   "outputs": [
    {
     "name": "stdout",
     "output_type": "stream",
     "text": [
      "200 OK\n"
     ]
    }
   ],
   "source": [
    "#REQUEST API DIRECCION\n",
    "\n",
    "headers = {\n",
    "    'Accept': 'application/json, application/geo+json, application/gpx+xml, img/png; charset=utf-8',\n",
    "}\n",
    "call = requests.get('https://api.openrouteservice.org/geocode/search?api_key={}&text={}&boundary.country=ES'.format(api_key,direccion), headers=headers)\n",
    "\n",
    "print(call.status_code, call.reason)\n",
    "\n",
    "data_dir = json.loads(call.text)"
   ]
  },
  {
   "cell_type": "code",
   "execution_count": 7,
   "id": "ee3a0a18-90aa-40b0-92ea-ba4ba75a2bf1",
   "metadata": {},
   "outputs": [
    {
     "data": {
      "text/plain": [
       "[-3.507326, 40.59644]"
      ]
     },
     "execution_count": 7,
     "metadata": {},
     "output_type": "execute_result"
    }
   ],
   "source": [
    "data_dir['features'][0]['geometry']['coordinates']"
   ]
  },
  {
   "cell_type": "code",
   "execution_count": 8,
   "id": "d2f053fd-c5f7-4733-b172-3ccfab901ddb",
   "metadata": {},
   "outputs": [],
   "source": [
    "coord_dir = data_dir['features'][0]['geometry']['coordinates']"
   ]
  },
  {
   "cell_type": "code",
   "execution_count": 9,
   "id": "081b0be1-7656-4ff9-b4e4-f29b2964d5a8",
   "metadata": {},
   "outputs": [],
   "source": [
    "coord_ies = [[x,y] for x,y in zip(df['x'],df['y'])]"
   ]
  },
  {
   "cell_type": "code",
   "execution_count": 10,
   "id": "6158083d-70c4-4d8d-896f-6114789d0980",
   "metadata": {},
   "outputs": [],
   "source": [
    "N_mitad = len(coord_ies)//2"
   ]
  },
  {
   "cell_type": "code",
   "execution_count": 11,
   "id": "6fb5486e-40d8-4751-8811-95fd0e05857f",
   "metadata": {},
   "outputs": [],
   "source": [
    "input_api_ors = [coord_dir] + coord_ies"
   ]
  },
  {
   "cell_type": "code",
   "execution_count": 12,
   "id": "e13e483f-3267-4143-bb65-2c90ada2455a",
   "metadata": {
    "tags": []
   },
   "outputs": [
    {
     "data": {
      "text/plain": [
       "650"
      ]
     },
     "execution_count": 12,
     "metadata": {},
     "output_type": "execute_result"
    }
   ],
   "source": [
    "len(input_api_ors)"
   ]
  },
  {
   "cell_type": "code",
   "execution_count": 32,
   "id": "642d9f7e-43ee-457a-9341-7af21f02229d",
   "metadata": {
    "tags": []
   },
   "outputs": [
    {
     "name": "stdout",
     "output_type": "stream",
     "text": [
      "200 OK\n"
     ]
    }
   ],
   "source": [
    "#REQUEST API 0-325 DURACIONES\n",
    "body = {\"locations\":input_api_ors[:N_mitad],\"destinations\":[0]}\n",
    "\n",
    "headers = {\n",
    "    'Accept': 'application/json, application/geo+json, application/gpx+xml, img/png; charset=utf-8',\n",
    "    'Authorization': api_key,\n",
    "    'Content-Type': 'application/json; charset=utf-8'\n",
    "}\n",
    "call = requests.post('https://api.openrouteservice.org/v2/matrix/driving-car', json=body, headers=headers)\n",
    "\n",
    "print(call.status_code, call.reason)\n",
    "\n",
    "data = json.loads(call.text)\n",
    "data['durations'].pop(0)\n",
    "duraciones_1 = data['durations']"
   ]
  },
  {
   "cell_type": "code",
   "execution_count": 14,
   "id": "6b683f62-242b-476d-b31b-e22811edef77",
   "metadata": {
    "tags": []
   },
   "outputs": [
    {
     "name": "stdout",
     "output_type": "stream",
     "text": [
      "200 OK\n"
     ]
    }
   ],
   "source": [
    "#REQUEST API 326-649 DURACIONES\n",
    "\n",
    "body = {\"locations\":[coord_dir] + input_api_ors[N_mitad:],\"destinations\":[0]}\n",
    "\n",
    "headers = {\n",
    "    'Accept': 'application/json, application/geo+json, application/gpx+xml, img/png; charset=utf-8',\n",
    "    'Authorization': '5b3ce3597851110001cf6248575a3f109d984b2c9918802842d75ae9',\n",
    "    'Content-Type': 'application/json; charset=utf-8'\n",
    "}\n",
    "call = requests.post('https://api.openrouteservice.org/v2/matrix/driving-car', json=body, headers=headers)\n",
    "\n",
    "print(call.status_code, call.reason)\n",
    "\n",
    "data = json.loads(call.text)\n",
    "data['durations'].pop(0)\n",
    "duraciones_2 = data['durations']"
   ]
  },
  {
   "cell_type": "code",
   "execution_count": 15,
   "id": "d5838c49-b0a4-4ae0-bbd1-eae3279acfe5",
   "metadata": {},
   "outputs": [],
   "source": [
    "duraciones = duraciones_1 + duraciones_2"
   ]
  },
  {
   "cell_type": "code",
   "execution_count": 16,
   "id": "65566645-ff44-4981-adec-cc39f72f354a",
   "metadata": {},
   "outputs": [
    {
     "data": {
      "text/plain": [
       "649"
      ]
     },
     "execution_count": 16,
     "metadata": {},
     "output_type": "execute_result"
    }
   ],
   "source": [
    "len(duraciones)"
   ]
  },
  {
   "cell_type": "code",
   "execution_count": 17,
   "id": "296aba00-82ba-4fc7-b7bd-efc2bea760e7",
   "metadata": {},
   "outputs": [],
   "source": [
    "df['Duraciones'] = duraciones"
   ]
  },
  {
   "cell_type": "code",
   "execution_count": 18,
   "id": "d8d4b139-565f-4eb7-aa56-3cd1fb9384e9",
   "metadata": {},
   "outputs": [],
   "source": [
    "df['Duraciones'] = df['Duraciones'].apply(lambda x: x[0])"
   ]
  },
  {
   "cell_type": "code",
   "execution_count": 19,
   "id": "d3a58ab4-a23b-4db8-b8de-040bbc45c024",
   "metadata": {},
   "outputs": [],
   "source": [
    "from humanfriendly import format_timespan\n",
    "\n",
    "df['Tiempo'] = [format_timespan(i) for i in df['Duraciones']]"
   ]
  },
  {
   "cell_type": "code",
   "execution_count": 20,
   "id": "d4af71dd-113a-4a17-ac22-ba6f2a9d59d3",
   "metadata": {},
   "outputs": [],
   "source": [
    "df_out = df.sort_values(['Duraciones'])"
   ]
  },
  {
   "cell_type": "code",
   "execution_count": 21,
   "id": "8b1b2338-9ccd-442c-9e85-526256f737b2",
   "metadata": {},
   "outputs": [],
   "source": [
    "# Extracting components\n",
    "df_out['D.A.T.'] = df_out['Description'].str.split('<br>').str[0].str.split(': ').str[1]\n",
    "df_out['codigo distrito'] = df_out['Description'].str.split('<br>').str[1].str.split(': ').str[1]\n",
    "df_out['nombre distrito'] = df_out['Description'].str.split('<br>').str[2].str.split(': ').str[1]\n",
    "df_out['codigo centro'] = df_out['Description'].str.split('<br>').str[3].str.split(': ').str[1]\n",
    "df_out['lengua'] = df_out['Description'].str.split('<br>').str[4].str.split(': ').str[1]\n",
    "df_out['nombre centro'] = df_out['Description'].str.split('<br>').str[5].str.split('; ').str[1].str.split(': ').str[1]\n",
    "df_out['distrito'] = df_out['Description'].str.split('<br>').str[5].str.split('; ').str[0].str.split(': ').str[1]"
   ]
  },
  {
   "cell_type": "code",
   "execution_count": 22,
   "id": "aae0b01c-41b2-44f0-bf05-ffc31b85e3c9",
   "metadata": {},
   "outputs": [],
   "source": [
    "df_out = df_out.drop(['Description','geometry','Duraciones','codigo distrito', 'lengua', 'distrito','nombre centro'],axis=1)"
   ]
  },
  {
   "cell_type": "code",
   "execution_count": 23,
   "id": "d0bd64c7-c7bf-4011-90c5-60f2c15a6f23",
   "metadata": {},
   "outputs": [],
   "source": [
    "df_out = df_out[['Tiempo', 'Name', 'nombre distrito','codigo centro','D.A.T.','x','y']]"
   ]
  },
  {
   "cell_type": "code",
   "execution_count": 25,
   "id": "ece5511b-c68e-48ae-a691-4a79e70a868b",
   "metadata": {
    "tags": []
   },
   "outputs": [],
   "source": [
    "df_out.to_csv(\"Resultados/tiempos_{}.csv\".format(direccion),index=False)"
   ]
  },
  {
   "cell_type": "code",
   "execution_count": null,
   "id": "427256bf-ed38-4fc9-9624-dd96d9e8fe4f",
   "metadata": {},
   "outputs": [],
   "source": []
  }
 ],
 "metadata": {
  "kernelspec": {
   "display_name": "Python 3 (ipykernel)",
   "language": "python",
   "name": "python3"
  },
  "language_info": {
   "codemirror_mode": {
    "name": "ipython",
    "version": 3
   },
   "file_extension": ".py",
   "mimetype": "text/x-python",
   "name": "python",
   "nbconvert_exporter": "python",
   "pygments_lexer": "ipython3",
   "version": "3.10.9"
  }
 },
 "nbformat": 4,
 "nbformat_minor": 5
}
